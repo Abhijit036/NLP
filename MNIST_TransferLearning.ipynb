{
  "nbformat": 4,
  "nbformat_minor": 0,
  "metadata": {
    "colab": {
      "provenance": [],
      "gpuType": "T4"
    },
    "kernelspec": {
      "name": "python3",
      "display_name": "Python 3"
    },
    "language_info": {
      "name": "python"
    },
    "accelerator": "GPU"
  },
  "cells": [
    {
      "cell_type": "code",
      "execution_count": 1,
      "metadata": {
        "id": "iNOdwbpVJCEP"
      },
      "outputs": [],
      "source": [
        "import tensorflow as tf\n",
        "from tensorflow.keras import layers, models\n",
        "import matplotlib.pyplot as plt\n",
        "import numpy as np\n"
      ]
    },
    {
      "cell_type": "code",
      "source": [
        "# --------------------------------------------------\n",
        "# 1. Load MNIST Dataset\n",
        "# --------------------------------------------------\n",
        "(x_train, y_train), (x_test, y_test) = tf.keras.datasets.mnist.load_data()"
      ],
      "metadata": {
        "colab": {
          "base_uri": "https://localhost:8080/"
        },
        "id": "4SchIhqKJEpE",
        "outputId": "dc02f9d2-4f75-443f-9781-857d2017f28d"
      },
      "execution_count": 2,
      "outputs": [
        {
          "output_type": "stream",
          "name": "stdout",
          "text": [
            "Downloading data from https://storage.googleapis.com/tensorflow/tf-keras-datasets/mnist.npz\n",
            "\u001b[1m11490434/11490434\u001b[0m \u001b[32m━━━━━━━━━━━━━━━━━━━━\u001b[0m\u001b[37m\u001b[0m \u001b[1m1s\u001b[0m 0us/step\n"
          ]
        }
      ]
    },
    {
      "cell_type": "code",
      "source": [
        "# 2. Create tf.data pipeline\n",
        "# --------------------------------------------------\n",
        "# Convert to tf.data.Dataset\n",
        "train_ds = tf.data.Dataset.from_tensor_slices((x_train, y_train))\n",
        "test_ds = tf.data.Dataset.from_tensor_slices((x_test, y_test))"
      ],
      "metadata": {
        "id": "a0oE9TF9JH6s"
      },
      "execution_count": 3,
      "outputs": []
    },
    {
      "cell_type": "code",
      "source": [
        "# Preprocessing function\n",
        "def preprocess(image, label):\n",
        "    image = tf.expand_dims(image, -1)                # add channel dim: (28,28) -> (28,28,1)\n",
        "    image = tf.image.grayscale_to_rgb(image)         # convert to 3 channels (RGB); pre-trained model we’re using (MobileNetV2)\n",
        "    image = tf.image.resize(image, [128, 128])       # resize to MobileNetV2 input size (actually uses 224 x 224); saving memory required\n",
        "    image = image / 255.0                            # normalize to [0,1]\n",
        "    return image, label"
      ],
      "metadata": {
        "id": "YO-pR2StJJxB"
      },
      "execution_count": 4,
      "outputs": []
    },
    {
      "cell_type": "code",
      "source": [
        "# Apply preprocessing, batching, prefetching\n",
        "batch_size = 32\n",
        "train_ds = train_ds.map(preprocess, num_parallel_calls=tf.data.AUTOTUNE).batch(batch_size).prefetch(tf.data.AUTOTUNE)\n",
        "test_ds = test_ds.map(preprocess, num_parallel_calls=tf.data.AUTOTUNE).batch(batch_size).prefetch(tf.data.AUTOTUNE)\n"
      ],
      "metadata": {
        "id": "6c_9DndAJMGz"
      },
      "execution_count": 5,
      "outputs": []
    },
    {
      "cell_type": "code",
      "source": [
        "# --------------------------------------------------\n",
        "# 3. Load Pre-trained Base Model (MobileNetV2)\n",
        "# --------------------------------------------------\n",
        "base_model = tf.keras.applications.MobileNetV2(\n",
        "    weights=\"imagenet\",  # use pretrained weights; Loads model weights that were trained on the ImageNet dataset.features like edges, corners, textures, shapes\n",
        "    include_top=False,   # Removes classification head (1000 classes), leaving only the convolutional base (feature extractor). we want to classify MNIST digits (10 classes)\n",
        "    input_shape=(128, 128, 3)   # using smaller size for Colab efficiency; # expected input size, MobileNetV2 was trained on 224×224 RGB images.So we resize MNIST digits from (28×28×1) → (224×224×3).\n",
        ")\n",
        "base_model.trainable = False  # freeze pretrained layers"
      ],
      "metadata": {
        "colab": {
          "base_uri": "https://localhost:8080/"
        },
        "id": "PGaRootmJVYI",
        "outputId": "2957c209-3913-4946-ef7a-fac160874a49"
      },
      "execution_count": 6,
      "outputs": [
        {
          "output_type": "stream",
          "name": "stdout",
          "text": [
            "Downloading data from https://storage.googleapis.com/tensorflow/keras-applications/mobilenet_v2/mobilenet_v2_weights_tf_dim_ordering_tf_kernels_1.0_128_no_top.h5\n",
            "\u001b[1m9406464/9406464\u001b[0m \u001b[32m━━━━━━━━━━━━━━━━━━━━\u001b[0m\u001b[37m\u001b[0m \u001b[1m1s\u001b[0m 0us/step\n"
          ]
        }
      ]
    },
    {
      "cell_type": "code",
      "source": [
        "# --------------------------------------------------\n",
        "# 4. Build Model with New Head\n",
        "# --------------------------------------------------\n",
        "model = models.Sequential([\n",
        "    base_model,\n",
        "    layers.GlobalAveragePooling2D(), #spatial average of each feature map. Converts variable-sized feature maps into a fixed-length vector.\n",
        "    # If feature maps = (4,4,1280), after pooling → (1280,).\n",
        "    # MobileNetV2 doesn’t give you raw pixels, Instead, it outputs feature maps. Height, width, channels\n",
        "    # There are 1280 feature maps(Channels), Each feature map is a 4×4 grid (spatial representation of features).\n",
        "    # Each channel detects some pattern (edges, textures, shapes).\n",
        "    layers.Dense(128, activation='relu'), #A fully connected (hidden) layer with 128 neurons. ReLU adds non-linearity → helps model learn complex patterns\n",
        "    layers.Dropout(0.3),\n",
        "    layers.Dense(10, activation='softmax')  # 10 classes for MNIST\n",
        "])"
      ],
      "metadata": {
        "id": "Js11jsjtJWEr"
      },
      "execution_count": 7,
      "outputs": []
    },
    {
      "cell_type": "code",
      "source": [
        "# --------------------------------------------------\n",
        "# 5. Compile\n",
        "# --------------------------------------------------\n",
        "model.compile(optimizer='adam',\n",
        "              loss='sparse_categorical_crossentropy',\n",
        "              metrics=['accuracy'])"
      ],
      "metadata": {
        "id": "dG6WzSThJYLF"
      },
      "execution_count": 8,
      "outputs": []
    },
    {
      "cell_type": "code",
      "source": [
        "# --------------------------------------------------\n",
        "# 6. Train\n",
        "# --------------------------------------------------\n",
        "history = model.fit(train_ds, epochs=3, validation_data=test_ds)\n",
        "\n",
        "# --------------------------------------------------\n",
        "# 7. Evaluate\n",
        "# --------------------------------------------------\n",
        "test_loss, test_acc = model.evaluate(test_ds, verbose=2)\n",
        "print(f\"\\n✅ Transfer Learning Test Accuracy: {test_acc:.4f}\")\n"
      ],
      "metadata": {
        "colab": {
          "base_uri": "https://localhost:8080/"
        },
        "id": "DKM7bKV5JZ_V",
        "outputId": "b34a070e-f9e3-4a9f-d4cc-04ae3dcda2f7"
      },
      "execution_count": 9,
      "outputs": [
        {
          "output_type": "stream",
          "name": "stdout",
          "text": [
            "Epoch 1/3\n",
            "\u001b[1m1875/1875\u001b[0m \u001b[32m━━━━━━━━━━━━━━━━━━━━\u001b[0m\u001b[37m\u001b[0m \u001b[1m61s\u001b[0m 24ms/step - accuracy: 0.8927 - loss: 0.3340 - val_accuracy: 0.9643 - val_loss: 0.1089\n",
            "Epoch 2/3\n",
            "\u001b[1m1875/1875\u001b[0m \u001b[32m━━━━━━━━━━━━━━━━━━━━\u001b[0m\u001b[37m\u001b[0m \u001b[1m51s\u001b[0m 14ms/step - accuracy: 0.9618 - loss: 0.1194 - val_accuracy: 0.9693 - val_loss: 0.1015\n",
            "Epoch 3/3\n",
            "\u001b[1m1875/1875\u001b[0m \u001b[32m━━━━━━━━━━━━━━━━━━━━\u001b[0m\u001b[37m\u001b[0m \u001b[1m26s\u001b[0m 14ms/step - accuracy: 0.9673 - loss: 0.0969 - val_accuracy: 0.9734 - val_loss: 0.0870\n",
            "313/313 - 3s - 11ms/step - accuracy: 0.9734 - loss: 0.0870\n",
            "\n",
            "✅ Transfer Learning Test Accuracy: 0.9734\n"
          ]
        }
      ]
    },
    {
      "cell_type": "code",
      "source": [
        "# # --------------------------------------------------\n",
        "# # 8. Plot Training Curves\n",
        "# # --------------------------------------------------\n",
        "# plt.plot(history.history['accuracy'], label='Train Accuracy')\n",
        "# plt.plot(history.history['val_accuracy'], label='Validation Accuracy')\n",
        "# plt.xlabel('Epochs')\n",
        "# plt.ylabel('Accuracy')\n",
        "# plt.legend()\n",
        "# plt.show()"
      ],
      "metadata": {
        "id": "RDbaKSYZJc56"
      },
      "execution_count": null,
      "outputs": []
    },
    {
      "cell_type": "code",
      "source": [
        "# --------------------------------------------------\n",
        "# 8. Predict on Test Data\n",
        "# --------------------------------------------------\n",
        "# Preprocess test images manually for visualization\n",
        "x_test_rgb = np.expand_dims(x_test, -1)\n",
        "x_test_rgb = np.repeat(x_test_rgb, 3, axis=-1)               # grayscale -> RGB\n",
        "x_test_resized = tf.image.resize(x_test_rgb, [128, 128]) / 255.0\n",
        "x_test_resized = x_test_resized.numpy()\n",
        "\n",
        "\n",
        "# Predict\n",
        "predictions = model.predict(x_test_resized, batch_size=32)\n",
        "predicted_labels = np.argmax(predictions, axis=1)"
      ],
      "metadata": {
        "colab": {
          "base_uri": "https://localhost:8080/"
        },
        "id": "rybWfrjrKfGi",
        "outputId": "7150983c-b895-403b-b1c3-46e85d1605b3"
      },
      "execution_count": 10,
      "outputs": [
        {
          "output_type": "stream",
          "name": "stdout",
          "text": [
            "\u001b[1m313/313\u001b[0m \u001b[32m━━━━━━━━━━━━━━━━━━━━\u001b[0m\u001b[37m\u001b[0m \u001b[1m13s\u001b[0m 26ms/step\n"
          ]
        }
      ]
    },
    {
      "cell_type": "code",
      "source": [
        "# 9. Visualization Function\n",
        "# --------------------------------------------------\n",
        "def plot_sample(i, predictions_array, true_label, img):\n",
        "    pred_label = np.argmax(predictions_array)\n",
        "    plt.grid(False)\n",
        "    plt.xticks([])\n",
        "    plt.yticks([])\n",
        "    plt.imshow(img, cmap=plt.cm.binary)  # show original 28x28 image\n",
        "\n",
        "    # Label color → green if correct, red if wrong\n",
        "    color = \"green\" if pred_label == true_label else \"red\"\n",
        "    plt.xlabel(f\"Pred: {pred_label}, True: {true_label}\", color=color)"
      ],
      "metadata": {
        "id": "kZvGi9vgKi9N"
      },
      "execution_count": 11,
      "outputs": []
    },
    {
      "cell_type": "markdown",
      "source": [
        "i → index of the sample (not used directly inside, but useful for looping).\n",
        "\n",
        "predictions_array → model’s predicted probabilities for all 10 classes (output of model.predict).\n",
        "\n",
        "true_label → the actual digit label (0–9).\n",
        "\n",
        "img → the image data (28×28 grayscale digit).\n",
        "\n",
        "\n",
        "---\n",
        "\n",
        "pred_label = np.argmax(predictions_array)\n",
        "predictions_array looks like:\n",
        "[0.01, 0.02, 0.8, 0.05, ... , 0.01] → 10 values, one per class.\n",
        "\n",
        "np.argmax(...) finds the index of the maximum probability → the predicted digit.\n",
        "\n",
        "Example: if class 2 has the highest probability, pred_label = 2.\n",
        "\n",
        "\n",
        "---\n",
        "plt.grid(False)\n",
        "plt.xticks([])\n",
        "plt.yticks([])\n",
        "\n",
        "\n",
        "\n",
        "---\n",
        "\n",
        "plt.imshow(img, cmap=plt.cm.binary)  # show original 28x28 image\n",
        "Displays the digit image.\n",
        "\n",
        "cmap=plt.cm.binary → shows it in black & white (instead of color heatmap).\n",
        "\n",
        "\n",
        "---\n",
        "color = \"green\" if pred_label == true_label else \"red\"\n",
        "If prediction is correct → text color = green.\n",
        "\n",
        "If wrong → text color = red.\n",
        "\n",
        "This is how we visually mark correct vs. incorrect predictions.\n"
      ],
      "metadata": {
        "id": "GuNPc7Dl0LOk"
      }
    },
    {
      "cell_type": "code",
      "source": [
        "# --------------------------------------------------\n",
        "# 10. Show First 25 Predictions\n",
        "# --------------------------------------------------\n",
        "plt.figure(figsize=(10,10))\n",
        "for i in range(25):\n",
        "    plt.subplot(5,5,i+1)\n",
        "    plot_sample(i, predictions[i], y_test[i], x_test[i])  # plot original 28x28\n",
        "plt.tight_layout()\n",
        "plt.show()"
      ],
      "metadata": {
        "colab": {
          "base_uri": "https://localhost:8080/",
          "height": 1000
        },
        "id": "rdHQ8vgzKnP7",
        "outputId": "753a83e9-e277-4813-bf28-20f0f7be0998"
      },
      "execution_count": 12,
      "outputs": [
        {
          "output_type": "display_data",
          "data": {
            "text/plain": [
              "<Figure size 1000x1000 with 25 Axes>"
            ],
            "image/png": "[encoded data removed]"
          },
          "metadata": {}
        }
      ]
    },
    {
      "cell_type": "code",
      "source": [],
      "metadata": {
        "id": "RZHZ22t3MPoB"
      },
      "execution_count": null,
      "outputs": []
    }
  ]
}